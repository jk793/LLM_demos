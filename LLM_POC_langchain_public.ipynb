{
 "cells": [
  {
   "cell_type": "markdown",
   "metadata": {},
   "source": [
    "# Classifier-Extractor Module POC (LLM+LangChain)\n",
    "- Public Version - Redacted & Used Synthetic Vulnerability Reports\n",
    "- For Vulnerability Case Analysis Automation\n",
    "- Jayden Kim"
   ]
  },
  {
   "cell_type": "markdown",
   "metadata": {},
   "source": [
    "#### Overview\n",
    "- POC to validate the technical feasibility of the business requirements\n",
    "- LangChain-based LLM Implementation\n",
    "- This module as part of a larger automation pipeline being worked on by Team ABC and DS\n",
    "- Core business problem\n",
    "    - to classify a new submission into pre-determined categories and extract relevant repro steps\n",
    "- ChatGPT-generated synethetic dataset used for more secure exploration\n",
    "- FewShotPromptTemplate module of LangChain used for few-shot learning in a LangChain-friendly structure\n",
    "- Pydantic to ensure that the output is properly structured for the next module in the pipeline"
   ]
  },
  {
   "cell_type": "markdown",
   "metadata": {},
   "source": [
    "#### LLM Setup"
   ]
  },
  {
   "cell_type": "code",
   "execution_count": 1,
   "metadata": {},
   "outputs": [],
   "source": [
    "# import packages\n",
    "import os, json\n",
    "from dotenv import load_dotenv\n",
    "\n",
    "from langchain.chat_models import AzureChatOpenAI\n",
    "from langchain import LLMChain, PromptTemplate\n",
    "from langchain.prompts.few_shot import FewShotPromptTemplate\n",
    "from langchain.output_parsers import PydanticOutputParser\n",
    "\n",
    "from pydantic import BaseModel, Field, validator\n",
    "from typing import List\n"
   ]
  },
  {
   "cell_type": "code",
   "execution_count": 2,
   "metadata": {},
   "outputs": [],
   "source": [
    "# load env variables for the LLM\n",
    "load_dotenv()\n",
    "BASE_URL = os.getenv(\"BASE_URL\")\n",
    "API_KEY = os.getenv(\"API_KEY\")\n",
    "DEPLOYMENT_NAME = os.getenv(\"DEPLOYMENT_NAME\")"
   ]
  },
  {
   "cell_type": "code",
   "execution_count": 3,
   "metadata": {},
   "outputs": [],
   "source": [
    "# instantiate the llm object (Azure OpenAI gpt-35-turbo)\n",
    "llm = AzureChatOpenAI(\n",
    "    openai_api_base=BASE_URL,\n",
    "    openai_api_version = \"2023-03-15-preview\",\n",
    "    deployment_name=DEPLOYMENT_NAME,\n",
    "    openai_api_key=API_KEY,\n",
    "    openai_api_type=\"azure\",\n",
    "    temperature=0 #for predictable and deterministic response\n",
    ")"
   ]
  },
  {
   "cell_type": "code",
   "execution_count": 5,
   "metadata": {},
   "outputs": [
    {
     "data": {
      "text/plain": [
       "'Felix'"
      ]
     },
     "execution_count": 5,
     "metadata": {},
     "output_type": "execute_result"
    }
   ],
   "source": [
    "# quick sanity check for this instance \n",
    "prompt_template = \"\"\"What is a good name for a dog that likes {something}?\"\"\"\n",
    "llm_chain = LLMChain(llm=llm, prompt=PromptTemplate.from_template(prompt_template))\n",
    "llm_chain.predict(something=\"a cat\")"
   ]
  },
  {
   "cell_type": "markdown",
   "metadata": {},
   "source": [
    "#### Examples for Few-shot Learning"
   ]
  },
  {
   "cell_type": "code",
   "execution_count": 6,
   "metadata": {},
   "outputs": [],
   "source": [
    "#ChatGPT-generated synthetic test submission to test the POC\n",
    "test_submission = {\"description\": \"\"\"A cross-site scripting (XSS) vulnerability has been identified in the ABC Web Application version 1.2.3. \n",
    "                                    The application fails to properly sanitize user input in the search functionality, \n",
    "                                    allowing an attacker to inject malicious scripts into the returned search results. \n",
    "                                    This can lead to session hijacking, data theft, or further attacks.\n",
    "                                    \\n\\nReproduction Steps:\\n1. Navigate to the ABC Web Application search page.\n",
    "                                    \\n2. In the search input field, enter a script tag with a payload.\\n3. \n",
    "                                    Submit the search request and observe the execution of the injected script.\n",
    "                                    \\n\\nReference URLs:\\n- ABC Web Application Official Website: https://www.example.com/abc-web-app\\n- Vendor Security Advisory: https://www.example.com/security/advisory-2022-54321\\n- CVE-2022-54321: https://cve.mitre.org/cgi-bin/cvename.cgi?name=CVE-2022-54321\"\"\", \n",
    "                   \"vulnerabilityCategory\": \"Cross-Site Scripting (XSS)\", \n",
    "                   \"extracted_repro_steps\": [\"1. Navigate to the ABC Web Application search page.\", \"2. In the search input field, enter a script tag with a payload.\", \"3. Submit the search request and observe the execution of the injected script.\"]\n",
    "                   }"
   ]
  },
  {
   "cell_type": "code",
   "execution_count": 8,
   "metadata": {},
   "outputs": [],
   "source": [
    "#ChatGPT-generated synthetic example submissions for few-shot learning of the LLM (total 9 examples)\n",
    "##SQL Injection (SQLi) x 2\n",
    "##Remote Code Execution (RCE) x 2\n",
    "##Cross-Site Request Forgery (CSRF) x 2\n",
    "##Information Disclosure x 2\n",
    "##Cross-Site Scripting (XSS) x 1\n",
    "example_submissions = [\n",
    "    {\n",
    "        \"description\": \"XYZ Content Management System version 4.8.2 is susceptible to SQL injection attacks. An attacker can manipulate input fields to execute unauthorized SQL queries, potentially leading to data breaches or unauthorized access to the underlying database.\\n\\nReproduction Steps:\\n1. Access the XYZ Content Management System login page.\\n2. Enter a specially crafted SQL injection payload in the username or password field.\\n3. Submit the login request and observe the response, which may reveal sensitive information or provide unauthorized access.\\n\\nReference URLs:\\n- XYZ Content Management System Official Website: https://www.example.com/xyz-cms\\n- Vendor Security Advisory: https://www.example.com/security/advisory-2022-12345\\n- CVE-2022-12345: https://cve.mitre.org/cgi-bin/cvename.cgi?name=CVE-2022-12345\",\n",
    "        \"vulnerabilityCategory\": \"SQL Injection (SQLi)\",\n",
    "        \"extracted_repro_steps\": [\n",
    "            \"1. Access the XYZ Content Management System login page.\",\n",
    "            \"2. Enter a specially crafted SQL injection payload in the username or password field.\",\n",
    "            \"3. Submit the login request and observe the response, which may reveal sensitive information or provide unauthorized access.\"\n",
    "        ]\n",
    "    },\n",
    "    {\n",
    "        \"description\": \"An RCE vulnerability has been discovered in XYZ Server Management Software version 2.5.0. Attackers can exploit this flaw to execute arbitrary commands on the targeted server, potentially compromising the entire system.\\n\\nReproduction Steps:\\n1. Establish a network connection to the vulnerable server running XYZ Server Management Software.\\n2. Craft a malicious command payload to exploit the RCE vulnerability.\\n3. Send the payload to the server and observe the successful execution of arbitrary commands.\\n\\nReference URLs:\\n- XYZ Server Management Software Official Website: https://www.example.com/xyz-server-management\\n- Vendor Security Advisory: https://www.example.com/security/advisory-2022-87654\\n- CVE-2022-87654: https://cve.mitre.org/cgi-bin/cvename.cgi?name=CVE-2022-87654\",\n",
    "        \"vulnerabilityCategory\": \"Remote Code Execution (RCE)\",\n",
    "        \"extracted_repro_steps\": [\n",
    "            \"1. Establish a network connection to the vulnerable server running XYZ Server Management Software.\",\n",
    "            \"2. Craft a malicious command payload to exploit the RCE vulnerability.\",\n",
    "            \"3. Send the payload to the server and observe the successful execution of arbitrary commands.\"\n",
    "        ]\n",
    "    },\n",
    "    {\n",
    "        \"description\": \"The XYZ Banking Portal version 3.7.1 is vulnerable to cross-site request forgery (CSRF). Attackers can trick authenticated users into unknowingly performing unauthorized actions, such as transferring funds or changing account settings.\\n\\nReproduction Steps:\\n1. Craft a malicious webpage that includes forged requests targeting sensitive actions on the XYZ Banking Portal.\\n2. Persuade the victim to visit the malicious webpage while being logged into their XYZ Banking Portal account.\\n3. Observe the successful execution of unauthorized actions upon the victim's interaction with the malicious webpage.\\n\\nReference URLs:\\n- XYZ Banking Portal Official Website: https://www.example.com/xyz-banking-portal\\n- Vendor Security Advisory: https://www.example.com/security/advisory-2022-34567\\n- CVE-2022-34567: https://cve.mitre.org/cgi-bin/cvename.cgi?name=CVE-2022-34567\",\n",
    "        \"vulnerabilityCategory\": \"Cross-Site Request Forgery (CSRF)\",\n",
    "        \"extracted_repro_steps\": [\n",
    "            \"1. Craft a malicious webpage that includes forged requests targeting sensitive actions on the XYZ Banking Portal.\",\n",
    "            \"2. Persuade the victim to visit the malicious webpage while being logged into their XYZ Banking Portal account.\",\n",
    "            \"3. Observe the successful execution of unauthorized actions upon the victim's interaction with the malicious webpage.\"\n",
    "        ]\n",
    "    },\n",
    "    {\n",
    "        \"description\": \"The ABC Mobile App version 2.2.0 inadvertently exposes sensitive user data, including personal information and payment details, due to improper access controls. Unauthorized users can access this information, leading to potential identity theft or fraud.\\n\\nReproduction Steps:\\n1. Install the ABC Mobile App on a device.\\n2. Attempt to access specific features or functionality without proper authentication or authorization.\\n3. Observe the unintended exposure of sensitive information in the application's responses or data transmission.\\n\\nReference URLs:\\n- ABC Mobile App Official Website: https://www.example.com/abc-mobile-app\\n- Vendor Security Advisory: https://www.example.com/security/advisory-2022-87654\\n- CVE-2022-87654: https://cve.mitre.org/cgi-bin/cvename.cgi?name=CVE-2022-87654\",\n",
    "        \"vulnerabilityCategory\": \"Information Disclosure\",\n",
    "        \"extracted_repro_steps\": [\n",
    "            \"1. Install the ABC Mobile App on a device.\",\n",
    "            \"2. Attempt to access specific features or functionality without proper authentication or authorization.\",\n",
    "            \"3. Observe the unintended exposure of sensitive information in the application's responses or data transmission.\"\n",
    "        ]\n",
    "    },\n",
    "    {\n",
    "        \"description\": \"The XYZ Blogging Platform version 1.0.3 is vulnerable to stored cross-site scripting (XSS) attacks. Attackers can inject malicious scripts into the platform's comment section, which will be executed when viewed by other users.\\n\\nReproduction Steps:\\n1. Create a new blog post on the XYZ Blogging Platform.\\n2. Post a comment containing a script tag with a payload.\\n3. View the blog post and observe the execution of the injected script.\\n\\nReference URLs:\\n- XYZ Blogging Platform Official Website: https://www.example.com/xyz-blogging-platform\\n- Vendor Security Advisory: https://www.example.com/security/advisory-2022-54321\\n- CVE-2022-54321: https://cve.mitre.org/cgi-bin/cvename.cgi?name=CVE-2022-54321\",\n",
    "        \"vulnerabilityCategory\": \"Cross-Site Scripting (XSS)\",\n",
    "        \"extracted_repro_steps\": [\n",
    "            \"1. Create a new blog post on the XYZ Blogging Platform.\",\n",
    "            \"2. Post a comment containing a script tag with a payload.\",\n",
    "            \"3. View the blog post and observe the execution of the injected script.\"\n",
    "        ]\n",
    "    },\n",
    "    {\n",
    "        \"description\": \"The authentication system of the ABC platform version 1.1.0 is vulnerable to blind SQL injection. By exploiting this vulnerability, an attacker can infer information from the database by analyzing the application's responses to crafted SQL queries.\\n\\nReproduction Steps:\\n1. Access the ABC platform login page.\\n2. Craft a SQL injection payload in the login fields to trigger a time delay or conditional response from the application.\\n3. Observe the behavior of the application's responses, which can reveal information about the underlying database.\\n\\nReference URLs:\\n- ABC Platform Official Website: https://www.example.com/abc-platform\\n- Vendor Security Advisory: https://www.example.com/security/advisory-2022-23456\\n- CVE-2022-23456: https://cve.mitre.org/cgi-bin/cvename.cgi?name=CVE-2022-23456\",\n",
    "        \"vulnerabilityCategory\": \"SQL Injection (SQLi)\",\n",
    "        \"extracted_repro_steps\": [\n",
    "            \"1. Access the ABC platform login page.\",\n",
    "            \"2. Craft a SQL injection payload in the login fields to trigger a time delay or conditional response from the application.\",\n",
    "            \"3. Observe the behavior of the application's responses, which can reveal information about the underlying database.\"\n",
    "        ]\n",
    "    },\n",
    "    {\n",
    "        \"description\": \"The firmware of XYZ network devices version 2.0.1 is vulnerable to command injection. Attackers can inject malicious commands through specially crafted requests, potentially gaining unauthorized access or control over the affected devices.\\n\\nReproduction Steps:\\n1. Establish a network connection to the XYZ network device.\\n2. Craft a malicious command injection payload to execute arbitrary commands on the device.\\n3. Send the payload to the device and verify the successful execution of the injected commands.\\n\\nReference URLs:\\n- XYZ Network Devices Official Website: https://www.example.com/xyz-network-devices\\n- Vendor Security Advisory: https://www.example.com/security/advisory-2022-87654\\n- CVE-2022-87654: https://cve.mitre.org/cgi-bin/cvename.cgi?name=CVE-2022-87654\",\n",
    "        \"vulnerabilityCategory\": \"Remote Code Execution (RCE)\",\n",
    "        \"extracted_repro_steps\": [\n",
    "            \"1. Establish a network connection to the XYZ network device.\",\n",
    "            \"2. Craft a malicious command injection payload to execute arbitrary commands on the device.\",\n",
    "            \"3. Send the payload to the device and verify the successful execution of the injected commands.\"\n",
    "        ]\n",
    "    },\n",
    "    {\n",
    "        \"description\": \"The ABC Admin Panel version 2.0.0 contains a cross-site request forgery (CSRF) vulnerability. Attackers can create malicious web pages or send crafted requests to trick authenticated administrators into executing unintended actions.\\n\\nReproduction Steps:\\n1. Craft a malicious webpage that includes forged requests targeting sensitive actions in the ABC Admin Panel.\\n2. Trick an authenticated administrator into visiting the malicious webpage or clicking on a malicious link.\\n3. Observe the successful execution of unauthorized actions upon the administrator's interaction with the malicious content.\\n\\nReference URLs:\\n- ABC Admin Panel Official Website: https://www.example.com/abc-admin-panel\\n- Vendor Security Advisory: https://www.example.com/security/advisory-2022-45678\\n- CVE-2022-45678: https://cve.mitre.org/cgi-bin/cvename.cgi?name=CVE-2022-45678\",\n",
    "        \"vulnerabilityCategory\": \"Cross-Site Request Forgery (CSRF)\",\n",
    "        \"extracted_repro_steps\": [\n",
    "            \"1. Craft a malicious webpage that includes forged requests targeting sensitive actions in the ABC Admin Panel.\",\n",
    "            \"2. Trick an authenticated administrator into visiting the malicious webpage or clicking on a malicious link.\",\n",
    "            \"3. Observe the successful execution of unauthorized actions upon the administrator's interaction with the malicious content.\"\n",
    "        ]\n",
    "    },\n",
    "    {\n",
    "        \"description\": \"The configuration files of XYZ application version 1.2.3 contain sensitive information, such as database credentials and API keys, that are accessible to unauthorized users. This can lead to potential misuse or unauthorized access to critical systems.\\n\\nReproduction Steps:\\n1. Locate the configuration files in the XYZ application installation directory.\\n2. Open the files using a text editor or file viewer.\\n3. Observe the presence of sensitive information, including database credentials, API keys, or other confidential data.\\n\\nReference URLs:\\n- XYZ Application Official Website: https://www.example.com/xyz-application\\n- Vendor Security Advisory: https://www.example.com/security/advisory-2022-78901\\n- CVE-2022-78901: https://cve.mitre.org/cgi-bin/cvename.cgi?name=CVE-2022-78901\",\n",
    "        \"vulnerabilityCategory\": \"Information Disclosure\",\n",
    "        \"extracted_repro_steps\": [\n",
    "            \"1. Locate the configuration files in the XYZ application installation directory.\",\n",
    "            \"2. Open the files using a text editor or file viewer.\",\n",
    "            \"3. Observe the presence of sensitive information, including database credentials, API keys, or other confidential data.\"\n",
    "        ]\n",
    "    }\n",
    "]"
   ]
  },
  {
   "cell_type": "code",
   "execution_count": 9,
   "metadata": {},
   "outputs": [],
   "source": [
    "# Create a formatter for the examples\n",
    "example_template = PromptTemplate(input_variables=[\"description\", \"vulnerabilityCategory\", \"extracted_repro_steps\"],\n",
    "                                 template=\"\"\"\n",
    "                                            Description: {description}\n",
    "                                            Vulnerability Category: {vulnerabilityCategory}\n",
    "                                            Extracted Repro Steps: {extracted_repro_steps}\n",
    "                                \"\"\"\n",
    "                                 )"
   ]
  },
  {
   "cell_type": "code",
   "execution_count": 12,
   "metadata": {},
   "outputs": [
    {
     "name": "stdout",
     "output_type": "stream",
     "text": [
      "\n",
      "                                            Description: XYZ Content Management System version 4.8.2 is susceptible to SQL injection attacks. An attacker can manipulate input fields to execute unauthorized SQL queries, potentially leading to data breaches or unauthorized access to the underlying database.\n",
      "\n",
      "Reproduction Steps:\n",
      "1. Access the XYZ Content Management System login page.\n",
      "2. Enter a specially crafted SQL injection payload in the username or password field.\n",
      "3. Submit the login request and observe the response, which may reveal sensitive information or provide unauthorized access.\n",
      "\n",
      "Reference URLs:\n",
      "- XYZ Content Management System Official Website: https://www.example.com/xyz-cms\n",
      "- Vendor Security Advisory: https://www.example.com/security/advisory-2022-12345\n",
      "- CVE-2022-12345: https://cve.mitre.org/cgi-bin/cvename.cgi?name=CVE-2022-12345\n",
      "                                            Vulnerability Category: SQL Injection (SQLi)\n",
      "                                            Extracted Repro Steps: ['1. Access the XYZ Content Management System login page.', '2. Enter a specially crafted SQL injection payload in the username or password field.', '3. Submit the login request and observe the response, which may reveal sensitive information or provide unauthorized access.']\n",
      "                                \n"
     ]
    }
   ],
   "source": [
    "#sanity check\n",
    "print(example_template.format(**example_submissions[0]))"
   ]
  },
  {
   "cell_type": "markdown",
   "metadata": {},
   "source": [
    "#### Prompt Engineering"
   ]
  },
  {
   "cell_type": "code",
   "execution_count": 13,
   "metadata": {},
   "outputs": [],
   "source": [
    "# prefix (instructions prior to the examples)\n",
    "prefix = \"\"\"\n",
    "Given the description, classify it into one of these categories:\n",
    "- Cross-Site Scripting (XSS)\n",
    "- SQL Injection (SQLi)\n",
    "- Remote Code Execution (RCE)\n",
    "- Cross-Site Request Forgery (CSRF)\n",
    "- Information Disclosure\n",
    "\n",
    "And then, extract the relevant reproduction(repro) steps from the description.\n",
    "If you can't find anything relevant, do not make up anything. Just output \"None\"\n",
    "The classification will be based on the text description. \n",
    "\n",
    "Here are some examples:\n",
    "\"\"\""
   ]
  },
  {
   "cell_type": "code",
   "execution_count": 14,
   "metadata": {},
   "outputs": [],
   "source": [
    "#Create a Pydantic JSON parser for output validation\n",
    "class Response(BaseModel):\n",
    "    vulnerabilityCategory: str=Field(description=\"classification of the description\")\n",
    "    extracted_repro_steps: List[str]=Field(description=\"relevant reproduction steps parsed from the description\")\n",
    "\n",
    "output_parser = PydanticOutputParser(pydantic_object=Response)"
   ]
  },
  {
   "cell_type": "code",
   "execution_count": 15,
   "metadata": {},
   "outputs": [],
   "source": [
    "#Few-shot Learning Prompt Template\n",
    "fewshot_template = FewShotPromptTemplate(\n",
    "    examples=example_submissions,\n",
    "    example_prompt=example_template,\n",
    "    prefix=prefix,\n",
    "    suffix=\"{format_instructions}\\n{description}\",\n",
    "    input_variables=[\"description\"],\n",
    "    partial_variables={\"format_instructions\": output_parser.get_format_instructions()} \n",
    ")"
   ]
  },
  {
   "cell_type": "code",
   "execution_count": 16,
   "metadata": {},
   "outputs": [
    {
     "name": "stdout",
     "output_type": "stream",
     "text": [
      "\n",
      "Given the description, classify it into one of these categories:\n",
      "- Cross-Site Scripting (XSS)\n",
      "- SQL Injection (SQLi)\n",
      "- Remote Code Execution (RCE)\n",
      "- Cross-Site Request Forgery (CSRF)\n",
      "- Information Disclosure\n",
      "\n",
      "And then, extract the relevant reproduction(repro) steps from the description.\n",
      "If you can't find anything relevant, do not make up anything. Just output \"None\"\n",
      "The classification will be based on the text description. \n",
      "\n",
      "Here are some examples:\n",
      "\n",
      "\n",
      "\n",
      "                                            Description: XYZ Content Management System version 4.8.2 is susceptible to SQL injection attacks. An attacker can manipulate input fields to execute unauthorized SQL queries, potentially leading to data breaches or unauthorized access to the underlying database.\n",
      "\n",
      "Reproduction Steps:\n",
      "1. Access the XYZ Content Management System login page.\n",
      "2. Enter a specially crafted SQL injection payload in the username or password field.\n",
      "3. Submit the login request and observe the response, which may reveal sensitive information or provide unauthorized access.\n",
      "\n",
      "Reference URLs:\n",
      "- XYZ Content Management System Official Website: https://www.example.com/xyz-cms\n",
      "- Vendor Security Advisory: https://www.example.com/security/advisory-2022-12345\n",
      "- CVE-2022-12345: https://cve.mitre.org/cgi-bin/cvename.cgi?name=CVE-2022-12345\n",
      "                                            Vulnerability Category: SQL Injection (SQLi)\n",
      "                                            Extracted Repro Steps: ['1. Access the XYZ Content Management System login page.', '2. Enter a specially crafted SQL injection payload in the username or password field.', '3. Submit the login request and observe the response, which may reveal sensitive information or provide unauthorized access.']\n",
      "                                \n",
      "\n",
      "\n",
      "                                            Description: An RCE vulnerability has been discovered in XYZ Server Management Software version 2.5.0. Attackers can exploit this flaw to execute arbitrary commands on the targeted server, potentially compromising the entire system.\n",
      "\n",
      "Reproduction Steps:\n",
      "1. Establish a network connection to the vulnerable server running XYZ Server Management Software.\n",
      "2. Craft a malicious command payload to exploit the RCE vulnerability.\n",
      "3. Send the payload to the server and observe the successful execution of arbitrary commands.\n",
      "\n",
      "Reference URLs:\n",
      "- XYZ Server Management Software Official Website: https://www.example.com/xyz-server-management\n",
      "- Vendor Security Advisory: https://www.example.com/security/advisory-2022-87654\n",
      "- CVE-2022-87654: https://cve.mitre.org/cgi-bin/cvename.cgi?name=CVE-2022-87654\n",
      "                                            Vulnerability Category: Remote Code Execution (RCE)\n",
      "                                            Extracted Repro Steps: ['1. Establish a network connection to the vulnerable server running XYZ Server Management Software.', '2. Craft a malicious command payload to exploit the RCE vulnerability.', '3. Send the payload to the server and observe the successful execution of arbitrary commands.']\n",
      "                                \n",
      "\n",
      "\n",
      "                                            Description: The XYZ Banking Portal version 3.7.1 is vulnerable to cross-site request forgery (CSRF). Attackers can trick authenticated users into unknowingly performing unauthorized actions, such as transferring funds or changing account settings.\n",
      "\n",
      "Reproduction Steps:\n",
      "1. Craft a malicious webpage that includes forged requests targeting sensitive actions on the XYZ Banking Portal.\n",
      "2. Persuade the victim to visit the malicious webpage while being logged into their XYZ Banking Portal account.\n",
      "3. Observe the successful execution of unauthorized actions upon the victim's interaction with the malicious webpage.\n",
      "\n",
      "Reference URLs:\n",
      "- XYZ Banking Portal Official Website: https://www.example.com/xyz-banking-portal\n",
      "- Vendor Security Advisory: https://www.example.com/security/advisory-2022-34567\n",
      "- CVE-2022-34567: https://cve.mitre.org/cgi-bin/cvename.cgi?name=CVE-2022-34567\n",
      "                                            Vulnerability Category: Cross-Site Request Forgery (CSRF)\n",
      "                                            Extracted Repro Steps: ['1. Craft a malicious webpage that includes forged requests targeting sensitive actions on the XYZ Banking Portal.', '2. Persuade the victim to visit the malicious webpage while being logged into their XYZ Banking Portal account.', \"3. Observe the successful execution of unauthorized actions upon the victim's interaction with the malicious webpage.\"]\n",
      "                                \n",
      "\n",
      "\n",
      "                                            Description: The ABC Mobile App version 2.2.0 inadvertently exposes sensitive user data, including personal information and payment details, due to improper access controls. Unauthorized users can access this information, leading to potential identity theft or fraud.\n",
      "\n",
      "Reproduction Steps:\n",
      "1. Install the ABC Mobile App on a device.\n",
      "2. Attempt to access specific features or functionality without proper authentication or authorization.\n",
      "3. Observe the unintended exposure of sensitive information in the application's responses or data transmission.\n",
      "\n",
      "Reference URLs:\n",
      "- ABC Mobile App Official Website: https://www.example.com/abc-mobile-app\n",
      "- Vendor Security Advisory: https://www.example.com/security/advisory-2022-87654\n",
      "- CVE-2022-87654: https://cve.mitre.org/cgi-bin/cvename.cgi?name=CVE-2022-87654\n",
      "                                            Vulnerability Category: Information Disclosure\n",
      "                                            Extracted Repro Steps: ['1. Install the ABC Mobile App on a device.', '2. Attempt to access specific features or functionality without proper authentication or authorization.', \"3. Observe the unintended exposure of sensitive information in the application's responses or data transmission.\"]\n",
      "                                \n",
      "\n",
      "\n",
      "                                            Description: The XYZ Blogging Platform version 1.0.3 is vulnerable to stored cross-site scripting (XSS) attacks. Attackers can inject malicious scripts into the platform's comment section, which will be executed when viewed by other users.\n",
      "\n",
      "Reproduction Steps:\n",
      "1. Create a new blog post on the XYZ Blogging Platform.\n",
      "2. Post a comment containing a script tag with a payload.\n",
      "3. View the blog post and observe the execution of the injected script.\n",
      "\n",
      "Reference URLs:\n",
      "- XYZ Blogging Platform Official Website: https://www.example.com/xyz-blogging-platform\n",
      "- Vendor Security Advisory: https://www.example.com/security/advisory-2022-54321\n",
      "- CVE-2022-54321: https://cve.mitre.org/cgi-bin/cvename.cgi?name=CVE-2022-54321\n",
      "                                            Vulnerability Category: Cross-Site Scripting (XSS)\n",
      "                                            Extracted Repro Steps: ['1. Create a new blog post on the XYZ Blogging Platform.', '2. Post a comment containing a script tag with a payload.', '3. View the blog post and observe the execution of the injected script.']\n",
      "                                \n",
      "\n",
      "\n",
      "                                            Description: The authentication system of the ABC platform version 1.1.0 is vulnerable to blind SQL injection. By exploiting this vulnerability, an attacker can infer information from the database by analyzing the application's responses to crafted SQL queries.\n",
      "\n",
      "Reproduction Steps:\n",
      "1. Access the ABC platform login page.\n",
      "2. Craft a SQL injection payload in the login fields to trigger a time delay or conditional response from the application.\n",
      "3. Observe the behavior of the application's responses, which can reveal information about the underlying database.\n",
      "\n",
      "Reference URLs:\n",
      "- ABC Platform Official Website: https://www.example.com/abc-platform\n",
      "- Vendor Security Advisory: https://www.example.com/security/advisory-2022-23456\n",
      "- CVE-2022-23456: https://cve.mitre.org/cgi-bin/cvename.cgi?name=CVE-2022-23456\n",
      "                                            Vulnerability Category: SQL Injection (SQLi)\n",
      "                                            Extracted Repro Steps: ['1. Access the ABC platform login page.', '2. Craft a SQL injection payload in the login fields to trigger a time delay or conditional response from the application.', \"3. Observe the behavior of the application's responses, which can reveal information about the underlying database.\"]\n",
      "                                \n",
      "\n",
      "\n",
      "                                            Description: The firmware of XYZ network devices version 2.0.1 is vulnerable to command injection. Attackers can inject malicious commands through specially crafted requests, potentially gaining unauthorized access or control over the affected devices.\n",
      "\n",
      "Reproduction Steps:\n",
      "1. Establish a network connection to the XYZ network device.\n",
      "2. Craft a malicious command injection payload to execute arbitrary commands on the device.\n",
      "3. Send the payload to the device and verify the successful execution of the injected commands.\n",
      "\n",
      "Reference URLs:\n",
      "- XYZ Network Devices Official Website: https://www.example.com/xyz-network-devices\n",
      "- Vendor Security Advisory: https://www.example.com/security/advisory-2022-87654\n",
      "- CVE-2022-87654: https://cve.mitre.org/cgi-bin/cvename.cgi?name=CVE-2022-87654\n",
      "                                            Vulnerability Category: Remote Code Execution (RCE)\n",
      "                                            Extracted Repro Steps: ['1. Establish a network connection to the XYZ network device.', '2. Craft a malicious command injection payload to execute arbitrary commands on the device.', '3. Send the payload to the device and verify the successful execution of the injected commands.']\n",
      "                                \n",
      "\n",
      "\n",
      "                                            Description: The ABC Admin Panel version 2.0.0 contains a cross-site request forgery (CSRF) vulnerability. Attackers can create malicious web pages or send crafted requests to trick authenticated administrators into executing unintended actions.\n",
      "\n",
      "Reproduction Steps:\n",
      "1. Craft a malicious webpage that includes forged requests targeting sensitive actions in the ABC Admin Panel.\n",
      "2. Trick an authenticated administrator into visiting the malicious webpage or clicking on a malicious link.\n",
      "3. Observe the successful execution of unauthorized actions upon the administrator's interaction with the malicious content.\n",
      "\n",
      "Reference URLs:\n",
      "- ABC Admin Panel Official Website: https://www.example.com/abc-admin-panel\n",
      "- Vendor Security Advisory: https://www.example.com/security/advisory-2022-45678\n",
      "- CVE-2022-45678: https://cve.mitre.org/cgi-bin/cvename.cgi?name=CVE-2022-45678\n",
      "                                            Vulnerability Category: Cross-Site Request Forgery (CSRF)\n",
      "                                            Extracted Repro Steps: ['1. Craft a malicious webpage that includes forged requests targeting sensitive actions in the ABC Admin Panel.', '2. Trick an authenticated administrator into visiting the malicious webpage or clicking on a malicious link.', \"3. Observe the successful execution of unauthorized actions upon the administrator's interaction with the malicious content.\"]\n",
      "                                \n",
      "\n",
      "\n",
      "                                            Description: The configuration files of XYZ application version 1.2.3 contain sensitive information, such as database credentials and API keys, that are accessible to unauthorized users. This can lead to potential misuse or unauthorized access to critical systems.\n",
      "\n",
      "Reproduction Steps:\n",
      "1. Locate the configuration files in the XYZ application installation directory.\n",
      "2. Open the files using a text editor or file viewer.\n",
      "3. Observe the presence of sensitive information, including database credentials, API keys, or other confidential data.\n",
      "\n",
      "Reference URLs:\n",
      "- XYZ Application Official Website: https://www.example.com/xyz-application\n",
      "- Vendor Security Advisory: https://www.example.com/security/advisory-2022-78901\n",
      "- CVE-2022-78901: https://cve.mitre.org/cgi-bin/cvename.cgi?name=CVE-2022-78901\n",
      "                                            Vulnerability Category: Information Disclosure\n",
      "                                            Extracted Repro Steps: ['1. Locate the configuration files in the XYZ application installation directory.', '2. Open the files using a text editor or file viewer.', '3. Observe the presence of sensitive information, including database credentials, API keys, or other confidential data.']\n",
      "                                \n",
      "\n",
      "The output should be formatted as a JSON instance that conforms to the JSON schema below.\n",
      "\n",
      "As an example, for the schema {\"properties\": {\"foo\": {\"title\": \"Foo\", \"description\": \"a list of strings\", \"type\": \"array\", \"items\": {\"type\": \"string\"}}}, \"required\": [\"foo\"]}}\n",
      "the object {\"foo\": [\"bar\", \"baz\"]} is a well-formatted instance of the schema. The object {\"properties\": {\"foo\": [\"bar\", \"baz\"]}} is not well-formatted.\n",
      "\n",
      "Here is the output schema:\n",
      "```\n",
      "{\"properties\": {\"vulnerabilityCategory\": {\"title\": \"Vulnerabilitycategory\", \"description\": \"classification of the description\", \"type\": \"string\"}, \"extracted_repro_steps\": {\"title\": \"Extracted Repro Steps\", \"description\": \"relevant reproduction steps parsed from the description\", \"type\": \"array\", \"items\": {\"type\": \"string\"}}}, \"required\": [\"vulnerabilityCategory\", \"extracted_repro_steps\"]}\n",
      "```\n",
      "A cross-site scripting (XSS) vulnerability has been identified in the ABC Web Application version 1.2.3. \n",
      "                                    The application fails to properly sanitize user input in the search functionality, \n",
      "                                    allowing an attacker to inject malicious scripts into the returned search results. \n",
      "                                    This can lead to session hijacking, data theft, or further attacks.\n",
      "                                    \n",
      "\n",
      "Reproduction Steps:\n",
      "1. Navigate to the ABC Web Application search page.\n",
      "                                    \n",
      "2. In the search input field, enter a script tag with a payload.\n",
      "3. \n",
      "                                    Submit the search request and observe the execution of the injected script.\n",
      "                                    \n",
      "\n",
      "Reference URLs:\n",
      "- ABC Web Application Official Website: https://www.example.com/abc-web-app\n",
      "- Vendor Security Advisory: https://www.example.com/security/advisory-2022-54321\n",
      "- CVE-2022-54321: https://cve.mitre.org/cgi-bin/cvename.cgi?name=CVE-2022-54321\n"
     ]
    }
   ],
   "source": [
    "#Sanity Check: the final prompt\n",
    "print(fewshot_template.format(description=test_submission[\"description\"]))"
   ]
  },
  {
   "cell_type": "markdown",
   "metadata": {},
   "source": [
    "#### LLM Response"
   ]
  },
  {
   "cell_type": "code",
   "execution_count": 17,
   "metadata": {},
   "outputs": [
    {
     "data": {
      "text/plain": [
       "'A cross-site scripting (XSS) vulnerability has been identified in the ABC Web Application version 1.2.3. \\n                                    The application fails to properly sanitize user input in the search functionality, \\n                                    allowing an attacker to inject malicious scripts into the returned search results. \\n                                    This can lead to session hijacking, data theft, or further attacks.\\n                                    \\n\\nReproduction Steps:\\n1. Navigate to the ABC Web Application search page.\\n                                    \\n2. In the search input field, enter a script tag with a payload.\\n3. \\n                                    Submit the search request and observe the execution of the injected script.\\n                                    \\n\\nReference URLs:\\n- ABC Web Application Official Website: https://www.example.com/abc-web-app\\n- Vendor Security Advisory: https://www.example.com/security/advisory-2022-54321\\n- CVE-2022-54321: https://cve.mitre.org/cgi-bin/cvename.cgi?name=CVE-2022-54321'"
      ]
     },
     "execution_count": 17,
     "metadata": {},
     "output_type": "execute_result"
    }
   ],
   "source": [
    "test_submission[\"description\"]"
   ]
  },
  {
   "cell_type": "code",
   "execution_count": 18,
   "metadata": {},
   "outputs": [],
   "source": [
    "llm_chain = LLMChain(llm=llm, prompt=fewshot_template)\n",
    "new_description = test_submission[\"description\"]\n",
    "result = llm_chain.run(new_description)\n",
    "parsed_result = output_parser.parse(result).dict()"
   ]
  },
  {
   "cell_type": "code",
   "execution_count": 19,
   "metadata": {},
   "outputs": [
    {
     "data": {
      "text/plain": [
       "'Cross-Site Scripting (XSS)'"
      ]
     },
     "execution_count": 19,
     "metadata": {},
     "output_type": "execute_result"
    }
   ],
   "source": [
    "parsed_result[\"vulnerabilityCategory\"]"
   ]
  },
  {
   "cell_type": "code",
   "execution_count": 25,
   "metadata": {},
   "outputs": [
    {
     "data": {
      "text/plain": [
       "['1. Navigate to the ABC Web Application search page.',\n",
       " '2. In the search input field, enter a script tag with a payload.',\n",
       " '3. Submit the search request and observe the execution of the injected script.']"
      ]
     },
     "execution_count": 25,
     "metadata": {},
     "output_type": "execute_result"
    }
   ],
   "source": [
    "parsed_result[\"extracted_repro_steps\"]"
   ]
  },
  {
   "cell_type": "markdown",
   "metadata": {},
   "source": [
    "#### Conclusion\n",
    "- GPT-model successfully generated required output items in this sample testing\n",
    "- Further validation needed with a larger actual submission dataset from the stakeholders to test the robustness of this particular approach."
   ]
  }
 ],
 "metadata": {
  "kernelspec": {
   "display_name": "openAI_env",
   "language": "python",
   "name": "python3"
  },
  "language_info": {
   "codemirror_mode": {
    "name": "ipython",
    "version": 3
   },
   "file_extension": ".py",
   "mimetype": "text/x-python",
   "name": "python",
   "nbconvert_exporter": "python",
   "pygments_lexer": "ipython3",
   "version": "3.9.12"
  },
  "orig_nbformat": 4
 },
 "nbformat": 4,
 "nbformat_minor": 2
}
